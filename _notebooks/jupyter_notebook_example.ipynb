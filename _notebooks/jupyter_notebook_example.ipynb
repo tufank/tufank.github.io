{
 "cells": [
  {
   "cell_type": "markdown",
   "id": "c5704879-2109-4dee-b413-b3af3026d70b",
   "metadata": {},
   "source": [
    "# Example Markddown\n",
    "## Styles\n",
    "\n",
    "*italic*\n",
    "\n",
    "**bold**\n",
    "\n",
    "***bold italic***\n",
    "\n",
    "## List\n",
    "- item 1\n",
    "- item 2\n",
    "- item 3\n"
   ]
  },
  {
   "cell_type": "code",
   "execution_count": null,
   "id": "881c3857-f15a-4eee-ad6c-aa8dec0a63fa",
   "metadata": {},
   "outputs": [],
   "source": [
    "3/2"
   ]
  }
 ],
 "metadata": {
  "kernelspec": {
   "display_name": "Python 3 (ipykernel)",
   "language": "python",
   "name": "python3"
  },
  "language_info": {
   "codemirror_mode": {
    "name": "ipython",
    "version": 3
   },
   "file_extension": ".py",
   "mimetype": "text/x-python",
   "name": "python",
   "nbconvert_exporter": "python",
   "pygments_lexer": "ipython3",
   "version": "3.10.12"
  }
 },
 "nbformat": 4,
 "nbformat_minor": 5
}
